{
 "cells": [
  {
   "cell_type": "markdown",
   "id": "95a6f11a-c606-4fc8-afd4-74a77e9d9327",
   "metadata": {},
   "source": [
    "# MultiQC Notebook Analysis"
   ]
  },
  {
   "cell_type": "markdown",
   "id": "8b324e0a-2055-4640-bdf1-5552ad9acba4",
   "metadata": {},
   "source": [
    "First, let's import the libraries that we need:"
   ]
  },
  {
   "cell_type": "code",
   "execution_count": null,
   "id": "3d851741-08e4-432d-9a5b-b0615ecf065c",
   "metadata": {},
   "outputs": [],
   "source": [
    "import multiqc\n",
    "import IPython"
   ]
  },
  {
   "cell_type": "markdown",
   "id": "ee4e19ae-fbc5-41b7-aefd-03cc28b8fdfc",
   "metadata": {},
   "source": [
    "Next, tell MultiQC to search the local directory and parse any logs that it can find."
   ]
  },
  {
   "cell_type": "code",
   "execution_count": null,
   "id": "460de6ff-9d33-4dfd-8425-aeea14b5a67c",
   "metadata": {},
   "outputs": [],
   "source": [
    "multiqc.parse_logs(\"./\")"
   ]
  },
  {
   "cell_type": "markdown",
   "id": "c6ce1157-a12e-4357-a544-c9c6ebed7cb2",
   "metadata": {},
   "source": [
    "Let's check that MultiQC did indeed find logs from Fastp, as expected:"
   ]
  },
  {
   "cell_type": "code",
   "execution_count": null,
   "id": "3df73408-c412-4c9f-9889-b3f446b392ae",
   "metadata": {},
   "outputs": [],
   "source": [
    "multiqc.list_modules()"
   ]
  },
  {
   "cell_type": "markdown",
   "id": "fd8aa44f-bdfb-49e6-a899-d78a6ee1340a",
   "metadata": {},
   "source": [
    "We can pull out specific plots from the report to show in the notebook:"
   ]
  },
  {
   "cell_type": "code",
   "execution_count": null,
   "id": "5f562e3b-e1e3-475d-a050-883308f59653",
   "metadata": {},
   "outputs": [],
   "source": [
    "plot = multiqc.get_plot(\"fastp\", \"Insert Sizes\")\n",
    "plot.show()"
   ]
  },
  {
   "cell_type": "markdown",
   "id": "a080ae11-432b-40c7-a1cd-6c858944eab0",
   "metadata": {},
   "source": [
    "Ok let's show the whole report now:"
   ]
  },
  {
   "cell_type": "code",
   "execution_count": null,
   "id": "25a1aca9-7be0-4f26-97cb-36989da04f6c",
   "metadata": {},
   "outputs": [],
   "source": [
    "multiqc.write_report(force=True)"
   ]
  },
  {
   "cell_type": "markdown",
   "id": "e7ae81c6-b2e9-4bec-8bed-1b3cbdf4ce1c",
   "metadata": {},
   "source": [
    "And show it inside the notebook, in an iframe:"
   ]
  },
  {
   "cell_type": "code",
   "execution_count": null,
   "id": "8920eba6-415f-47d3-866a-8d9b086e8fbe",
   "metadata": {},
   "outputs": [],
   "source": [
    "IPython.display.IFrame('./multiqc_report.html', '100%', 600)"
   ]
  }
 ],
 "metadata": {
  "kernelspec": {
   "display_name": "Python 3 (ipykernel)",
   "language": "python",
   "name": "python3"
  },
  "language_info": {
   "codemirror_mode": {
    "name": "ipython",
    "version": 3
   },
   "file_extension": ".py",
   "mimetype": "text/x-python",
   "name": "python",
   "nbconvert_exporter": "python",
   "pygments_lexer": "ipython3",
   "version": "3.12.1"
  }
 },
 "nbformat": 4,
 "nbformat_minor": 5
}
